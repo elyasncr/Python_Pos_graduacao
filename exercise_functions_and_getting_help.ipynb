{
  "metadata": {
    "kernelspec": {
      "language": "python",
      "display_name": "Python 3",
      "name": "python3"
    },
    "language_info": {
      "name": "python",
      "version": "3.10.12",
      "mimetype": "text/x-python",
      "codemirror_mode": {
        "name": "ipython",
        "version": 3
      },
      "pygments_lexer": "ipython3",
      "nbconvert_exporter": "python",
      "file_extension": ".py"
    },
    "colab": {
      "provenance": [],
      "include_colab_link": true
    }
  },
  "nbformat_minor": 0,
  "nbformat": 4,
  "cells": [
    {
      "cell_type": "markdown",
      "metadata": {
        "id": "view-in-github",
        "colab_type": "text"
      },
      "source": [
        "<a href=\"https://colab.research.google.com/github/elyasncr/Python_Pos_graduacao/blob/main/exercise_functions_and_getting_help.ipynb\" target=\"_parent\"><img src=\"https://colab.research.google.com/assets/colab-badge.svg\" alt=\"Open In Colab\"/></a>"
      ]
    },
    {
      "cell_type": "markdown",
      "source": [
        "**This notebook is an exercise in the [Python](https://www.kaggle.com/learn/python) course.  You can reference the tutorial at [this link](https://www.kaggle.com/colinmorris/functions-and-getting-help).**\n",
        "\n",
        "---\n"
      ],
      "metadata": {
        "id": "bwYOzttSK1h0"
      }
    },
    {
      "cell_type": "markdown",
      "source": [
        "Functions are powerful. Try writing some yourself.\n",
        "\n",
        "As before, don't forget to run the setup code below before jumping into question 1."
      ],
      "metadata": {
        "id": "du_M7yNOK1h1"
      }
    },
    {
      "cell_type": "code",
      "source": [
        "# SETUP. You don't need to worry for now about what this code does or how it works.\n",
        "from learntools.core import binder; binder.bind(globals())\n",
        "from learntools.python.ex2 import *\n",
        "print('Setup complete.')"
      ],
      "metadata": {
        "_kg_hide-input": true,
        "_kg_hide-output": true,
        "execution": {
          "iopub.status.busy": "2023-09-15T18:33:11.654906Z",
          "iopub.execute_input": "2023-09-15T18:33:11.655303Z",
          "iopub.status.idle": "2023-09-15T18:33:11.973467Z",
          "shell.execute_reply.started": "2023-09-15T18:33:11.655270Z",
          "shell.execute_reply": "2023-09-15T18:33:11.971389Z"
        },
        "trusted": true,
        "id": "CQZEEelbK1h1",
        "outputId": "bb8191c9-5941-4259-d581-ff54b9480de4"
      },
      "execution_count": null,
      "outputs": [
        {
          "name": "stdout",
          "text": "Setup complete.\n",
          "output_type": "stream"
        }
      ]
    },
    {
      "cell_type": "markdown",
      "source": [
        "# 1.\n",
        "\n",
        "Complete the body of the following function according to its docstring.\n",
        "\n",
        "HINT: Python has a built-in function `round`."
      ],
      "metadata": {
        "id": "-PI6JnxcK1h2"
      }
    },
    {
      "cell_type": "code",
      "source": [
        "def round_to_two_places(num):\n",
        "    \"\"\"Return the given number rounded to two decimal places.\n",
        "\n",
        "    >>> round_to_two_places(3.14159)\n",
        "    3.14\n",
        "    \"\"\"\n",
        "    # Replace this body with your own code.\n",
        "    # (\"pass\" is a keyword that does literally nothing. We used it as a placeholder\n",
        "    # because after we begin a code block, Python requires at least one line of code)\n",
        "    pass\n",
        "    return round(num, 2)\n",
        "# Check your answer\n",
        "q1.check()"
      ],
      "metadata": {
        "execution": {
          "iopub.status.busy": "2023-09-15T18:33:18.161897Z",
          "iopub.execute_input": "2023-09-15T18:33:18.163646Z",
          "iopub.status.idle": "2023-09-15T18:33:18.175748Z",
          "shell.execute_reply.started": "2023-09-15T18:33:18.163595Z",
          "shell.execute_reply": "2023-09-15T18:33:18.174789Z"
        },
        "trusted": true,
        "id": "k9qBMNQQK1h2",
        "outputId": "bf809f8d-0570-4d30-a926-81ebe939674e"
      },
      "execution_count": null,
      "outputs": [
        {
          "output_type": "display_data",
          "data": {
            "text/plain": "<IPython.core.display.Javascript object>",
            "application/javascript": "parent.postMessage({\"jupyterEvent\": \"custom.exercise_interaction\", \"data\": {\"outcomeType\": 1, \"valueTowardsCompletion\": 0.16666666666666666, \"interactionType\": 1, \"questionType\": 2, \"questionId\": \"1_RoundFunctionProblem\", \"learnToolsVersion\": \"0.3.4\", \"failureMessage\": \"\", \"exceptionClass\": \"\", \"trace\": \"\"}}, \"*\")"
          },
          "metadata": {}
        },
        {
          "output_type": "display_data",
          "data": {
            "text/plain": "Correct",
            "text/markdown": "<span style=\"color:#33cc33\">Correct</span>"
          },
          "metadata": {}
        }
      ]
    },
    {
      "cell_type": "code",
      "source": [
        "# Uncomment the following for a hint\n",
        "#q1.hint()\n",
        "# Or uncomment the following to peek at the solution\n",
        "#q1.solution()"
      ],
      "metadata": {
        "execution": {
          "iopub.status.busy": "2022-10-17T18:46:29.870456Z",
          "iopub.execute_input": "2022-10-17T18:46:29.870906Z",
          "iopub.status.idle": "2022-10-17T18:46:29.882019Z",
          "shell.execute_reply.started": "2022-10-17T18:46:29.870872Z",
          "shell.execute_reply": "2022-10-17T18:46:29.881158Z"
        },
        "trusted": true,
        "id": "RkdFGp3zK1h2"
      },
      "execution_count": null,
      "outputs": []
    },
    {
      "cell_type": "markdown",
      "source": [
        "# 2.\n",
        "The help for `round` says that `ndigits` (the second argument) may be negative.\n",
        "What do you think will happen when it is? Try some examples in the following cell."
      ],
      "metadata": {
        "id": "nQqHitC5K1h3"
      }
    },
    {
      "cell_type": "code",
      "source": [
        "# Put your test code here\n",
        "round(122.3, -2) #100\n",
        "round(1234.5, -3) #1000"
      ],
      "metadata": {
        "execution": {
          "iopub.status.busy": "2023-09-15T18:29:15.110785Z",
          "iopub.execute_input": "2023-09-15T18:29:15.111162Z",
          "iopub.status.idle": "2023-09-15T18:29:15.118373Z",
          "shell.execute_reply.started": "2023-09-15T18:29:15.111133Z",
          "shell.execute_reply": "2023-09-15T18:29:15.117221Z"
        },
        "trusted": true,
        "id": "u5f40SPCK1h3",
        "outputId": "30ed2a2a-07f5-4312-8433-46cef639c2b7"
      },
      "execution_count": null,
      "outputs": [
        {
          "execution_count": 2,
          "output_type": "execute_result",
          "data": {
            "text/plain": "1000.0"
          },
          "metadata": {}
        }
      ]
    },
    {
      "cell_type": "markdown",
      "source": [
        "Can you think of a case where this would be useful?  Once you're ready, run the code cell below to see the answer and to receive credit for completing the problem."
      ],
      "metadata": {
        "id": "SpxxHd2CK1h3"
      }
    },
    {
      "cell_type": "code",
      "source": [
        " #Check your answer (Run this code cell to receive credit!)\n",
        "\n",
        "round(123.3, -2)\n",
        "q2.solution()"
      ],
      "metadata": {
        "execution": {
          "iopub.status.busy": "2023-09-15T18:33:27.046921Z",
          "iopub.execute_input": "2023-09-15T18:33:27.047304Z",
          "iopub.status.idle": "2023-09-15T18:33:27.055542Z",
          "shell.execute_reply.started": "2023-09-15T18:33:27.047275Z",
          "shell.execute_reply": "2023-09-15T18:33:27.054574Z"
        },
        "trusted": true,
        "id": "PIUKDnGKK1h3",
        "outputId": "fff563a6-687c-467c-d35e-a4b1acac8c5a"
      },
      "execution_count": null,
      "outputs": [
        {
          "output_type": "display_data",
          "data": {
            "text/plain": "<IPython.core.display.Javascript object>",
            "application/javascript": "parent.postMessage({\"jupyterEvent\": \"custom.exercise_interaction\", \"data\": {\"interactionType\": 3, \"questionType\": 4, \"questionId\": \"2_RoundNdigitsProblem\", \"learnToolsVersion\": \"0.3.4\", \"valueTowardsCompletion\": 0.0, \"failureMessage\": \"\", \"exceptionClass\": \"\", \"trace\": \"\", \"outcomeType\": 4}}, \"*\")"
          },
          "metadata": {}
        },
        {
          "output_type": "display_data",
          "data": {
            "text/plain": "Solution: As you've seen, `ndigits=-1` rounds to the nearest 10, `ndigits=-2` rounds to the nearest 100 and so on. Where might this be useful? Suppose we're dealing with large numbers:\n\n> The area of Finland is 338,424 km²  \n> The area of Greenland is 2,166,086 km²\n\nWe probably don't care whether it's really 338,424, or 338,425, or 338,177. All those digits of accuracy are just distracting. We can chop them off by calling `round()` with `ndigits=-3`:\n\n> The area of Finland is 338,000 km²  \n> The area of Greenland is 2,166,000 km²\n\n(We'll talk about how we would get the commas later when we talk about string formatting :))",
            "text/markdown": "<span style=\"color:#33cc99\">Solution:</span> As you've seen, `ndigits=-1` rounds to the nearest 10, `ndigits=-2` rounds to the nearest 100 and so on. Where might this be useful? Suppose we're dealing with large numbers:\n\n> The area of Finland is 338,424 km²  \n> The area of Greenland is 2,166,086 km²\n\nWe probably don't care whether it's really 338,424, or 338,425, or 338,177. All those digits of accuracy are just distracting. We can chop them off by calling `round()` with `ndigits=-3`:\n\n> The area of Finland is 338,000 km²  \n> The area of Greenland is 2,166,000 km²\n\n(We'll talk about how we would get the commas later when we talk about string formatting :))\n"
          },
          "metadata": {}
        }
      ]
    },
    {
      "cell_type": "markdown",
      "source": [
        "# 3.\n",
        "\n",
        "In the previous exercise, the candy-sharing friends Alice, Bob and Carol tried to split candies evenly. For the sake of their friendship, any candies left over would be smashed. For example, if they collectively bring home 91 candies, they'll take 30 each and smash 1.\n",
        "\n",
        "Below is a simple function that will calculate the number of candies to smash for *any* number of total candies.\n",
        "\n",
        "Modify it so that it optionally takes a second argument representing the number of friends the candies are being split between. If no second argument is provided, it should assume 3 friends, as before.\n",
        "\n",
        "Update the docstring to reflect this new behaviour."
      ],
      "metadata": {
        "id": "4kHCmvWxK1h3"
      }
    },
    {
      "cell_type": "code",
      "source": [
        "def to_smash(total_candies):\n",
        "    \"\"\"Return the number of leftover candies that must be smashed after distributing\n",
        "    the given number of candies evenly between 3 friends.\n",
        "\n",
        "    >>> to_smash(91)\n",
        "    1\n",
        "    \"\"\"\n",
        "    return total_candies % 3\n",
        "\n",
        "def to_smash(total_candies, n_friends=3):\n",
        "    return total_candies % n_friends\n",
        "\n",
        "# Check your answer\n",
        "q3.check()"
      ],
      "metadata": {
        "execution": {
          "iopub.status.busy": "2023-09-15T18:34:45.381343Z",
          "iopub.execute_input": "2023-09-15T18:34:45.381982Z",
          "iopub.status.idle": "2023-09-15T18:34:45.391548Z",
          "shell.execute_reply.started": "2023-09-15T18:34:45.381946Z",
          "shell.execute_reply": "2023-09-15T18:34:45.390485Z"
        },
        "trusted": true,
        "id": "lRDjrmmOK1h3",
        "outputId": "af17f295-9a91-432f-a2bf-9f1f31dfa2ce"
      },
      "execution_count": null,
      "outputs": [
        {
          "output_type": "display_data",
          "data": {
            "text/plain": "<IPython.core.display.Javascript object>",
            "application/javascript": "parent.postMessage({\"jupyterEvent\": \"custom.exercise_interaction\", \"data\": {\"outcomeType\": 1, \"valueTowardsCompletion\": 0.16666666666666666, \"interactionType\": 1, \"questionType\": 2, \"questionId\": \"3_CandySmashingFunctionProblem\", \"learnToolsVersion\": \"0.3.4\", \"failureMessage\": \"\", \"exceptionClass\": \"\", \"trace\": \"\"}}, \"*\")"
          },
          "metadata": {}
        },
        {
          "output_type": "display_data",
          "data": {
            "text/plain": "Correct",
            "text/markdown": "<span style=\"color:#33cc33\">Correct</span>"
          },
          "metadata": {}
        }
      ]
    },
    {
      "cell_type": "code",
      "source": [
        "#q3.hint()"
      ],
      "metadata": {
        "id": "XfwkHdlWK1h3"
      },
      "execution_count": null,
      "outputs": []
    },
    {
      "cell_type": "code",
      "source": [
        "q3.solution()"
      ],
      "metadata": {
        "execution": {
          "iopub.status.busy": "2022-10-17T18:49:58.361832Z",
          "iopub.execute_input": "2022-10-17T18:49:58.362341Z",
          "iopub.status.idle": "2022-10-17T18:49:58.374134Z",
          "shell.execute_reply.started": "2022-10-17T18:49:58.362305Z",
          "shell.execute_reply": "2022-10-17T18:49:58.372456Z"
        },
        "trusted": true,
        "id": "TA7nKT7bK1h4"
      },
      "execution_count": null,
      "outputs": []
    },
    {
      "cell_type": "markdown",
      "source": [
        "# 4. (Optional)\n",
        "\n",
        "It may not be fun, but reading and understanding error messages will be an important part of your Python career.\n",
        "\n",
        "Each code cell below contains some commented buggy code. For each cell...\n",
        "\n",
        "1. Read the code and predict what you think will happen when it's run.\n",
        "2. Then uncomment the code and run it to see what happens. (**Tip**: In the kernel editor, you can highlight several lines and press `ctrl`+`/` to toggle commenting.)\n",
        "3. Fix the code (so that it accomplishes its intended purpose without throwing an exception)\n",
        "\n",
        "<!-- TODO: should this be autochecked? Delta is probably pretty small. -->"
      ],
      "metadata": {
        "id": "PhZbI3GfK1h4"
      }
    },
    {
      "cell_type": "code",
      "source": [
        "round_to_two_places(9.9999)\n"
      ],
      "metadata": {
        "execution": {
          "iopub.status.busy": "2023-09-15T18:37:02.977831Z",
          "iopub.execute_input": "2023-09-15T18:37:02.978268Z",
          "iopub.status.idle": "2023-09-15T18:37:02.984992Z",
          "shell.execute_reply.started": "2023-09-15T18:37:02.978235Z",
          "shell.execute_reply": "2023-09-15T18:37:02.984156Z"
        },
        "trusted": true,
        "id": "oC3PrfVgK1h4",
        "outputId": "79b70efc-9015-4a52-a17b-5113cac61077"
      },
      "execution_count": null,
      "outputs": [
        {
          "execution_count": 18,
          "output_type": "execute_result",
          "data": {
            "text/plain": "10.0"
          },
          "metadata": {}
        }
      ]
    },
    {
      "cell_type": "code",
      "source": [
        "x = -10\n",
        "y = 5\n",
        "#Which of the two variables above has the smallest absolute value?\n",
        "\n",
        "smallest_abs = min(abs(y))\n"
      ],
      "metadata": {
        "execution": {
          "iopub.status.busy": "2023-09-15T18:43:18.156496Z",
          "iopub.execute_input": "2023-09-15T18:43:18.156901Z",
          "iopub.status.idle": "2023-09-15T18:43:18.190293Z",
          "shell.execute_reply.started": "2023-09-15T18:43:18.156869Z",
          "shell.execute_reply": "2023-09-15T18:43:18.188785Z"
        },
        "trusted": true,
        "id": "RkAIyKFeK1h4",
        "outputId": "4b5c00cc-5e9a-491a-a74b-e498baf03f86"
      },
      "execution_count": null,
      "outputs": [
        {
          "traceback": [
            "\u001b[0;31m---------------------------------------------------------------------------\u001b[0m",
            "\u001b[0;31mTypeError\u001b[0m                                 Traceback (most recent call last)",
            "Cell \u001b[0;32mIn[31], line 5\u001b[0m\n\u001b[1;32m      2\u001b[0m y \u001b[38;5;241m=\u001b[39m \u001b[38;5;241m5\u001b[39m\n\u001b[1;32m      3\u001b[0m \u001b[38;5;66;03m#Which of the two variables above has the smallest absolute value?\u001b[39;00m\n\u001b[0;32m----> 5\u001b[0m smallest_abs \u001b[38;5;241m=\u001b[39m \u001b[38;5;28;43mmin\u001b[39;49m\u001b[43m(\u001b[49m\u001b[38;5;28;43mabs\u001b[39;49m\u001b[43m(\u001b[49m\u001b[43my\u001b[49m\u001b[43m)\u001b[49m\u001b[43m)\u001b[49m\n",
            "\u001b[0;31mTypeError\u001b[0m: 'int' object is not iterable"
          ],
          "ename": "TypeError",
          "evalue": "'int' object is not iterable",
          "output_type": "error"
        }
      ]
    },
    {
      "cell_type": "code",
      "source": [
        "def f(x):\n",
        "    y = abs(x)\n",
        "    return y\n",
        "\n",
        "print(f(5))"
      ],
      "metadata": {
        "execution": {
          "iopub.status.busy": "2023-09-15T18:42:03.738288Z",
          "iopub.execute_input": "2023-09-15T18:42:03.738735Z",
          "iopub.status.idle": "2023-09-15T18:42:03.744230Z",
          "shell.execute_reply.started": "2023-09-15T18:42:03.738699Z",
          "shell.execute_reply": "2023-09-15T18:42:03.743015Z"
        },
        "trusted": true,
        "id": "WoDyn46zK1h4",
        "outputId": "172e3542-11dd-455c-aba0-38369b22fe31"
      },
      "execution_count": null,
      "outputs": [
        {
          "name": "stdout",
          "text": "5\n",
          "output_type": "stream"
        }
      ]
    },
    {
      "cell_type": "markdown",
      "source": [
        "# Keep Going\n",
        "\n",
        "Nice job with the code. Next up, you'll learn about *conditionals*, which you'll need to **[write interesting programs](https://www.kaggle.com/colinmorris/booleans-and-conditionals)**."
      ],
      "metadata": {
        "id": "fy9Bc244K1h4"
      }
    },
    {
      "cell_type": "markdown",
      "source": [
        "---\n",
        "\n",
        "\n",
        "\n",
        "\n",
        "*Have questions or comments? Visit the [course discussion forum](https://www.kaggle.com/learn/python/discussion) to chat with other learners.*"
      ],
      "metadata": {
        "id": "dHUZYbejK1h4"
      }
    }
  ]
}