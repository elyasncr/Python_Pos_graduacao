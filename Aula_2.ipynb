{
  "nbformat": 4,
  "nbformat_minor": 0,
  "metadata": {
    "colab": {
      "provenance": [],
      "authorship_tag": "ABX9TyPmNjyqK8S9uJFBbYY4YFtO",
      "include_colab_link": true
    },
    "kernelspec": {
      "name": "python3",
      "display_name": "Python 3"
    },
    "language_info": {
      "name": "python"
    }
  },
  "cells": [
    {
      "cell_type": "markdown",
      "metadata": {
        "id": "view-in-github",
        "colab_type": "text"
      },
      "source": [
        "<a href=\"https://colab.research.google.com/github/elyasncr/Python_Pos_graduacao/blob/main/Aula_2.ipynb\" target=\"_parent\"><img src=\"https://colab.research.google.com/assets/colab-badge.svg\" alt=\"Open In Colab\"/></a>"
      ]
    },
    {
      "cell_type": "markdown",
      "source": [
        "#Aula 2 - Manipulação de Dados\n"
      ],
      "metadata": {
        "id": "hW9FPaBC21gX"
      }
    },
    {
      "cell_type": "markdown",
      "source": [
        "01/06 - Entrada de dados\n",
        "\n",
        "\n",
        "*   Entrada de dados é tudo aquilo que o usuário digita\n",
        "*   comando padrão para entrar os dados é input()\n"
      ],
      "metadata": {
        "id": "uW-dJLr_sR0p"
      }
    },
    {
      "cell_type": "code",
      "execution_count": 4,
      "metadata": {
        "id": "CxQU-XFI2xcR",
        "colab": {
          "base_uri": "https://localhost:8080/"
        },
        "outputId": "a7741972-79c0-42bd-d49d-65cf564b3bf7"
      },
      "outputs": [
        {
          "name": "stdout",
          "output_type": "stream",
          "text": [
            "Digite o seu nome: Elyas\n",
            "Qual seu ano de nascimento? 2000\n",
            "Digite seu e-mail: elyasnogueira82@gmail.com\n"
          ]
        }
      ],
      "source": [
        "nome = input(\"Digite o seu nome: \")\n",
        "\n",
        "nascimento = input(\"Qual seu ano de nascimento? \")\n",
        "\n",
        "email = input(\"Digite seu e-mail: \")"
      ]
    },
    {
      "cell_type": "markdown",
      "source": [
        "02/06 - Saída de dados\n",
        "\n",
        "\n",
        "*   Quando quisermos que algo apareça na tela, usaremos o comando **print()**\n",
        "*   Usado muitas vezes para exibir valores armazenados pelo input\n",
        "* Concatenar é:  print(\"Seu nome é: \", nome). Este exemplo mostra uma forma simples de utilizar a concatenação\n",
        "\n"
      ],
      "metadata": {
        "id": "rPRx-227tvEV"
      }
    },
    {
      "cell_type": "code",
      "source": [
        "print(nome)\n",
        "\n",
        "print(nascimento)\n",
        "\n",
        "print(email)"
      ],
      "metadata": {
        "colab": {
          "base_uri": "https://localhost:8080/"
        },
        "id": "tnVwI73SspU0",
        "outputId": "0083ae61-8690-436b-e6a2-5bb95ecd0b31"
      },
      "execution_count": 5,
      "outputs": [
        {
          "output_type": "stream",
          "name": "stdout",
          "text": [
            "Elyas\n",
            "2000\n",
            "elyasnogueira82@gmail.com\n"
          ]
        }
      ]
    },
    {
      "cell_type": "markdown",
      "source": [
        "03/06 - Tratamento de input/output\n",
        "\n",
        "* sempre que usamos o input, ele reconhece como uma string. Isto é, para cada tipo de input, você deve declarar qual será o tipo de saída ou entrada desse dado."
      ],
      "metadata": {
        "id": "BfCcG-MaurmG"
      }
    },
    {
      "cell_type": "code",
      "source": [
        "a = input(\"Digite um número: \")\n",
        "\n",
        "print(a + 5)"
      ],
      "metadata": {
        "colab": {
          "base_uri": "https://localhost:8080/",
          "height": 227
        },
        "id": "CGayKlIgur36",
        "outputId": "8810e908-9eb6-4941-c15d-6325b6487dbb"
      },
      "execution_count": 8,
      "outputs": [
        {
          "name": "stdout",
          "output_type": "stream",
          "text": [
            "Digite um número: 23\n"
          ]
        },
        {
          "output_type": "error",
          "ename": "TypeError",
          "evalue": "ignored",
          "traceback": [
            "\u001b[0;31m---------------------------------------------------------------------------\u001b[0m",
            "\u001b[0;31mTypeError\u001b[0m                                 Traceback (most recent call last)",
            "\u001b[0;32m<ipython-input-8-371b41829c66>\u001b[0m in \u001b[0;36m<cell line: 3>\u001b[0;34m()\u001b[0m\n\u001b[1;32m      1\u001b[0m \u001b[0ma\u001b[0m \u001b[0;34m=\u001b[0m \u001b[0minput\u001b[0m\u001b[0;34m(\u001b[0m\u001b[0;34m\"Digite um número: \"\u001b[0m\u001b[0;34m)\u001b[0m\u001b[0;34m\u001b[0m\u001b[0;34m\u001b[0m\u001b[0m\n\u001b[1;32m      2\u001b[0m \u001b[0;34m\u001b[0m\u001b[0m\n\u001b[0;32m----> 3\u001b[0;31m \u001b[0mprint\u001b[0m\u001b[0;34m(\u001b[0m\u001b[0ma\u001b[0m \u001b[0;34m+\u001b[0m \u001b[0;36m5\u001b[0m\u001b[0;34m)\u001b[0m\u001b[0;34m\u001b[0m\u001b[0;34m\u001b[0m\u001b[0m\n\u001b[0m",
            "\u001b[0;31mTypeError\u001b[0m: can only concatenate str (not \"int\") to str"
          ]
        }
      ]
    },
    {
      "cell_type": "markdown",
      "source": [
        "* vemos acima um erro de execução. Por quê do erro? Veja bem, ele não consegue reconhecer a saída do input como inteiro, somente como string. Logo, o correto seria declararmos como: a = int(input(\"Digite o seu valor: \"))\n",
        "\n",
        "* float()  para converter dados para decimal\n",
        "* str() para converter dados para string"
      ],
      "metadata": {
        "id": "7mO-31otxZ3t"
      }
    },
    {
      "cell_type": "code",
      "source": [
        "a = int(input(\"Digite um número: \"))\n",
        "\n",
        "print(a + 5)"
      ],
      "metadata": {
        "colab": {
          "base_uri": "https://localhost:8080/"
        },
        "id": "jobTsFy8xBKo",
        "outputId": "c4247394-dbe2-4ce5-dc52-833e0311e82e"
      },
      "execution_count": 10,
      "outputs": [
        {
          "output_type": "stream",
          "name": "stdout",
          "text": [
            "Digite um número: 30\n",
            "35\n"
          ]
        }
      ]
    },
    {
      "cell_type": "markdown",
      "source": [
        "04/06 - Operadores lógicos básicos\n",
        "* Operadores Aritméticos: +, -, *, /\n",
        "\n",
        "* Operadores Relacionais: >, <, >=, <=, !=, ==. ===\n",
        "\n",
        "\n",
        "* Operadores Lógicos:!(NOT), &&(AND),  ||(OR)\n",
        "\n"
      ],
      "metadata": {
        "id": "MiGA5Eqa1U9-"
      }
    },
    {
      "cell_type": "code",
      "source": [
        "maioridade = 18\n",
        "idade = int(input(\"Qual a sua idade? \"))\n",
        "\n",
        "if(idade >= maioridade):\n",
        "    print(nome, \" é maior de idade, ele tem \", idade, \" anos.\")\n",
        "else:\n",
        "    print(\"Não é maior de idade\")"
      ],
      "metadata": {
        "colab": {
          "base_uri": "https://localhost:8080/"
        },
        "id": "ke5ouDop0Oh-",
        "outputId": "c42362c8-bf18-44f9-c827-7c2c923d95e6"
      },
      "execution_count": 14,
      "outputs": [
        {
          "output_type": "stream",
          "name": "stdout",
          "text": [
            "Qual a sua idade? 23\n",
            "Elyas  é maior de idade, ele tem  23  anos.\n"
          ]
        }
      ]
    },
    {
      "cell_type": "markdown",
      "source": [
        "05/06 - Operadores lógicos adicionais\n",
        "* Potência: usa-se (**) para representar a elevado a b.\n",
        "* Raiz quadrada: sqrt, mas para isso é necessário importar a biblioteca math\n",
        "* operador módulo: usamos o percetual (%) para pegar o resto da divisão"
      ],
      "metadata": {
        "id": "HkG3Urej4zp8"
      }
    },
    {
      "cell_type": "code",
      "source": [
        "from cmath import sqrt"
      ],
      "metadata": {
        "id": "51t_wyON5ik7"
      },
      "execution_count": 21,
      "outputs": []
    },
    {
      "cell_type": "code",
      "source": [
        "import math\n",
        "\n",
        "b = int(input(\"Digite o valor: \"))\n",
        "print(b ** 3)\n",
        "\n",
        "print(sqrt(4))\n",
        "\n",
        "print(4 % 3)"
      ],
      "metadata": {
        "colab": {
          "base_uri": "https://localhost:8080/"
        },
        "id": "pUrrgjKd4fC9",
        "outputId": "ce0e40d9-75f5-4d68-b437-de47083ebc5a"
      },
      "execution_count": 24,
      "outputs": [
        {
          "output_type": "stream",
          "name": "stdout",
          "text": [
            "Digite o valor: 10\n",
            "1000\n",
            "(2+0j)\n",
            "1\n"
          ]
        }
      ]
    },
    {
      "cell_type": "markdown",
      "source": [
        "06/06 - Conceituando pacotes\n",
        "* São conglomerados de códigos pré-prontos da própria linguagem\n",
        "* sempre que formos trazer uma nova biblioteca, utilizaremos a chamada IMPORT."
      ],
      "metadata": {
        "id": "Dpjejc_V6Jdu"
      }
    },
    {
      "cell_type": "code",
      "source": [],
      "metadata": {
        "id": "0WCOdhGx5I4L"
      },
      "execution_count": 23,
      "outputs": []
    }
  ]
}