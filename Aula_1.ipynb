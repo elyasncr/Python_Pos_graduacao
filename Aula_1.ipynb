{
  "nbformat": 4,
  "nbformat_minor": 0,
  "metadata": {
    "colab": {
      "provenance": [],
      "authorship_tag": "ABX9TyOuR/w78rVuZES7w3Q2OrYS",
      "include_colab_link": true
    },
    "kernelspec": {
      "name": "python3",
      "display_name": "Python 3"
    },
    "language_info": {
      "name": "python"
    }
  },
  "cells": [
    {
      "cell_type": "markdown",
      "metadata": {
        "id": "view-in-github",
        "colab_type": "text"
      },
      "source": [
        "<a href=\"https://colab.research.google.com/github/elyasncr/Python_Pos_graduacao/blob/main/Aula_1.ipynb\" target=\"_parent\"><img src=\"https://colab.research.google.com/assets/colab-badge.svg\" alt=\"Open In Colab\"/></a>"
      ]
    },
    {
      "cell_type": "code",
      "execution_count": 3,
      "metadata": {
        "colab": {
          "base_uri": "https://localhost:8080/"
        },
        "id": "f6425_xPvwsJ",
        "outputId": "a32f90b0-5b7f-426d-ad77-73f75d78e878"
      },
      "outputs": [
        {
          "output_type": "stream",
          "name": "stdout",
          "text": [
            "10 Descomplica 40.5\n"
          ]
        }
      ],
      "source": [
        "a = 10\n",
        "b = \"Descomplica\"\n",
        "c = 40.5\n",
        "\n",
        "print(a, b, c)"
      ]
    },
    {
      "cell_type": "code",
      "source": [
        "## o python não trabalha com constantes, ele aceita algumas coisas, mas não utiliza como o Java e o PHP"
      ],
      "metadata": {
        "id": "ZScgm-7kwMwe"
      },
      "execution_count": 4,
      "outputs": []
    },
    {
      "cell_type": "markdown",
      "source": [
        "# Regras a serem seguidas:\n",
        "## 1 - Sem espaços nas suas variáveis\n",
        "## 2 - Não pode começar com números\n",
        "## 3 - Não pode ter caractéres especiais (* -/:~^´)"
      ],
      "metadata": {
        "id": "NlSQtQxsxOpT"
      }
    },
    {
      "cell_type": "code",
      "source": [],
      "metadata": {
        "id": "Ezup2O6YxNnF"
      },
      "execution_count": null,
      "outputs": []
    }
  ]
}